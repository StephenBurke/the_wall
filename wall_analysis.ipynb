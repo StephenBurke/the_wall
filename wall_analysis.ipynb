{
 "cells": [
  {
   "cell_type": "code",
   "execution_count": null,
   "metadata": {},
   "outputs": [],
   "source": [
    "import nltk, scrapy"
   ]
  },
  {
   "cell_type": "code",
   "execution_count": null,
   "metadata": {},
   "outputs": [],
   "source": [
    "class LyricSpider(scrapy.Spider):\n",
    "    name = \"lyric\"\n",
    "    start_urls = ['https://www.davemcnally.com/album-lyrics/the-wall/pink-floyd/']\n",
    "    \n",
    "    def parse(self, response):\n",
    "\n",
    "        for lyric in response.css('div.col-md-9'):\n",
    "            yield\n",
    "            {\n",
    "                    'lyrics': lyric.css()\n",
    "            }\n",
    "            \n",
    "\n"
   ]
  }
 ],
 "metadata": {
  "language_info": {
   "name": "python"
  },
  "orig_nbformat": 4
 },
 "nbformat": 4,
 "nbformat_minor": 2
}
