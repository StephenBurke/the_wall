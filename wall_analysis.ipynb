{
 "cells": [
  {
   "cell_type": "code",
   "execution_count": null,
   "metadata": {},
   "outputs": [],
   "source": [
    "import nltk, scrapy"
   ]
  },
  {
   "cell_type": "code",
   "execution_count": null,
   "metadata": {},
   "outputs": [],
   "source": [
    "class LyricSpider(scrapy.Spider):\n",
    "    name = \"lyric\"\n",
    "    start_urls = ['https://www.davemcnally.com/album-lyrics/the-wall/pink-floyd/']\n",
    "    \n",
    "    def parse(self, response):\n",
    "\n",
    "        for lyric in response.css('div.col-md-9'):\n",
    "            yield\n",
    "            {\n",
    "                    'lyrics': lyric.css()\n",
    "            }\n",
    "\n",
    "    def parse(self, response):\n",
    "        page = response.url.split(\"/\")[-2]\n",
    "        filename = f'quotes-{page}.html'\n",
    "        with open(filename, 'wb') as f:\n",
    "            f.write(response.body)\n",
    "            \n",
    "\n"
   ]
  }
 ],
 "metadata": {
  "kernelspec": {
   "display_name": "wall_venv",
   "language": "python",
   "name": "python3"
  },
  "language_info": {
   "name": "python",
   "version": "3.10.0 (tags/v3.10.0:b494f59, Oct  4 2021, 19:00:18) [MSC v.1929 64 bit (AMD64)]"
  },
  "orig_nbformat": 4,
  "vscode": {
   "interpreter": {
    "hash": "1864a35840eaca86225f22a6095aac32d13bed6d8c001a7c7f41b086b7b29495"
   }
  }
 },
 "nbformat": 4,
 "nbformat_minor": 2
}
